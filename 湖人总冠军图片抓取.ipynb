{
 "cells": [
  {
   "cell_type": "code",
   "execution_count": 1,
   "metadata": {},
   "outputs": [],
   "source": [
    "import requests\n",
    "import json"
   ]
  },
  {
   "cell_type": "code",
   "execution_count": 2,
   "metadata": {},
   "outputs": [],
   "source": [
    "query='湖人总冠军'"
   ]
  },
  {
   "cell_type": "code",
   "execution_count": 3,
   "metadata": {},
   "outputs": [],
   "source": [
    "def download(src,id):\n",
    "    dir='./'+str(id)+'.jpg'\n",
    "    try:\n",
    "        pic=requests.get(src,timeout=10)\n",
    "        fp=open(dir,'wb')\n",
    "        fp.write(pic.content)\n",
    "        fp.close()\n",
    "    except requests.exceptions.ConnectionError:\n",
    "        print('图片无法下载')"
   ]
  },
  {
   "cell_type": "code",
   "execution_count": 4,
   "metadata": {},
   "outputs": [
    {
     "name": "stdout",
     "output_type": "stream",
     "text": [
      "https://img3.doubanio.com/view/photo/photo/public/p2622746672.jpg\n",
      "https://img9.doubanio.com/view/photo/thumb/public/p2622746675.jpg\n",
      "https://img1.doubanio.com/view/photo/thumb/public/p2622746669.jpg\n",
      "https://img1.doubanio.com/view/photo/photo/public/p2622746678.jpg\n",
      "https://img3.doubanio.com/view/photo/photo/public/p2622746681.jpg\n",
      "https://img9.doubanio.com/view/photo/photo/public/p2622746685.jpg\n",
      "https://img2.doubanio.com/view/photo/thumb/public/p2622745473.jpg\n",
      "https://img1.doubanio.com/view/photo/photo/public/p2622745477.jpg\n",
      "https://img2.doubanio.com/view/photo/photo/public/p2622745483.jpg\n",
      "https://img3.doubanio.com/view/photo/thumb/public/p2622745480.jpg\n",
      "https://img1.doubanio.com/view/photo/photo/public/p2622745479.jpg\n",
      "https://img3.doubanio.com/view/photo/thumb/public/p2622745481.jpg\n",
      "https://img9.doubanio.com/view/photo/thumb/public/p2622745474.jpg\n",
      "https://img9.doubanio.com/view/photo/photo/public/p2622745485.jpg\n",
      "https://img3.doubanio.com/view/photo/photo/public/p2622746380.jpg\n",
      "https://img2.doubanio.com/view/photo/thumb/public/p2622746393.jpg\n",
      "https://img3.doubanio.com/view/photo/photo/public/p2622746400.jpg\n",
      "https://img9.doubanio.com/view/photo/thumb/public/p2622746375.jpg\n",
      "https://img9.doubanio.com/view/photo/photo/public/p2622746385.jpg\n",
      "https://img1.doubanio.com/view/photo/photo/public/p2622746389.jpg\n",
      "https://img9.doubanio.com/view/photo/photo/public/p2622746396.jpg\n",
      "https://img3.doubanio.com/view/photo/photo/public/p2622745482.jpg\n",
      "https://img9.doubanio.com/view/photo/thumb/public/p2622745484.jpg\n",
      "https://img9.doubanio.com/view/photo/thumb/public/p2622745486.jpg\n",
      "https://img9.doubanio.com/view/photo/photo/public/p2622745475.jpg\n",
      "https://img9.doubanio.com/view/photo/thumb/public/p2584901324.jpg\n",
      "https://img1.doubanio.com/view/photo/thumb/public/p2584900288.jpg\n",
      "https://img9.doubanio.com/view/photo/thumb/public/p2584897145.jpg\n",
      "https://img1.doubanio.com/view/photo/thumb/public/p2584897388.jpg\n",
      "https://img3.doubanio.com/view/photo/thumb/public/p2584898431.jpg\n",
      "https://img1.doubanio.com/view/photo/thumb/public/p2584894117.jpg\n",
      "https://img2.doubanio.com/view/photo/thumb/public/p2584899553.jpg\n",
      "https://img1.doubanio.com/view/photo/thumb/public/p2584898839.jpg\n",
      "https://img9.doubanio.com/view/photo/thumb/public/p2584897966.jpg\n",
      "https://img3.doubanio.com/view/photo/thumb/public/p2584903030.jpg\n",
      "https://img3.doubanio.com/view/photo/thumb/public/p2584902450.jpg\n",
      "https://img1.doubanio.com/view/photo/thumb/public/p2584907558.jpg\n",
      "https://img9.doubanio.com/view/photo/thumb/public/p2584907846.jpg\n",
      "https://img1.doubanio.com/view/photo/thumb/public/p2584909339.jpg\n",
      "https://img1.doubanio.com/view/photo/thumb/public/p2584908579.jpg\n",
      "https://img2.doubanio.com/view/photo/thumb/public/p2584907183.jpg\n",
      "https://img9.doubanio.com/view/photo/thumb/public/p2584906385.jpg\n",
      "https://img3.doubanio.com/view/photo/thumb/public/p2584905761.jpg\n",
      "https://img9.doubanio.com/view/photo/thumb/public/p2584905466.jpg\n",
      "https://img2.doubanio.com/view/photo/thumb/public/p2584905123.jpg\n",
      "https://img2.doubanio.com/view/photo/thumb/public/p2584906913.jpg\n",
      "https://img2.doubanio.com/view/photo/thumb/public/p2584909963.jpg\n",
      "https://img9.doubanio.com/view/photo/thumb/public/p2587703456.jpg\n",
      "https://img1.doubanio.com/view/photo/thumb/public/p2587703457.jpg\n",
      "https://img3.doubanio.com/view/photo/photo/public/p2587703460.jpg\n",
      "https://img9.doubanio.com/view/photo/photo/public/p2587703465.jpg\n",
      "https://img9.doubanio.com/view/photo/photo/public/p2587703466.jpg\n",
      "https://img1.doubanio.com/view/photo/photo/public/p2587703468.jpg\n",
      "https://img9.doubanio.com/view/photo/photo/public/p2587703206.jpg\n",
      "https://img3.doubanio.com/view/photo/thumb/public/p515987220.jpg\n",
      "https://img9.doubanio.com/view/photo/photo/public/p515987316.jpg\n",
      "https://img3.doubanio.com/view/photo/photo/public/p515987351.jpg\n",
      "https://img2.doubanio.com/view/photo/photo/public/p515987392.jpg\n",
      "https://img3.doubanio.com/view/photo/photo/public/p515987490.jpg\n",
      "https://img2.doubanio.com/view/photo/photo/public/p515989133.jpg\n"
     ]
    }
   ],
   "source": [
    "for i in range(0,50,20): #一共有2697张图，我这只下载了50张\n",
    "    url='https://www.douban.com/j/search_photo?q='+query+'&limit=20&start='+str(i)\n",
    "    html=requests.get(url=url,headers={\"User-Agent\":\"Mozilla/5.0(Macintosh; Intel Mac OS X 10_15_3) AppleWebKit/537.36 (KHTML, like Gecko) Chrome/79.0.3945.130 Safari/537.36\"}).text\n",
    "    response=json.loads(html,encoding='utf-8') #将JSON格式转换为python对象\n",
    "    for image in response['images']:\n",
    "        print(image['src'])\n",
    "        download(image['src'],image['id'])"
   ]
  },
  {
   "cell_type": "code",
   "execution_count": 5,
   "metadata": {},
   "outputs": [],
   "source": [
    "from PIL import Image\n",
    "from io import BytesIO"
   ]
  },
  {
   "cell_type": "code",
   "execution_count": 6,
   "metadata": {},
   "outputs": [],
   "source": [
    "# 显示图片\n",
    "img_src='http://img3.doubanio.com/view/photo/photo/public/p2622746672.jpg'\n",
    "res=requests.get(img_src)\n",
    "img=Image.open(BytesIO(res.content))\n",
    "img.show()"
   ]
  },
  {
   "cell_type": "code",
   "execution_count": null,
   "metadata": {},
   "outputs": [],
   "source": []
  }
 ],
 "metadata": {
  "kernelspec": {
   "display_name": "Python 3",
   "language": "python",
   "name": "python3"
  },
  "language_info": {
   "codemirror_mode": {
    "name": "ipython",
    "version": 3
   },
   "file_extension": ".py",
   "mimetype": "text/x-python",
   "name": "python",
   "nbconvert_exporter": "python",
   "pygments_lexer": "ipython3",
   "version": "3.7.3"
  }
 },
 "nbformat": 4,
 "nbformat_minor": 2
}
